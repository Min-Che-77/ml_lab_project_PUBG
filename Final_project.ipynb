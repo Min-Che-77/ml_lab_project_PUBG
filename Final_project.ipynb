{
 "cells": [
  {
   "cell_type": "markdown",
   "metadata": {},
   "source": [
    "Group name: PUBG\n",
    "--\n",
    "Group members: Min Che, Peng Liu, Xuxu Pan"
   ]
  },
  {
   "cell_type": "code",
   "execution_count": 1,
   "metadata": {
    "ExecuteTime": {
     "end_time": "2019-12-11T07:47:39.037638Z",
     "start_time": "2019-12-11T07:47:37.229668Z"
    }
   },
   "outputs": [],
   "source": [
    "import pandas as pd\n",
    "import numpy as np\n",
    "import random\n",
    "import matplotlib.pyplot as plt\n",
    "import matplotlib.ticker as ticker\n",
    "from collections import Counter\n",
    "from sklearn.model_selection import train_test_split\n",
    "from sklearn.metrics import confusion_matrix\n",
    "from sklearn.metrics import classification_report\n",
    "from sklearn.linear_model import LinearRegression\n",
    "from sklearn.ensemble import RandomForestRegressor\n",
    "from sklearn.ensemble import GradientBoostingRegressor\n",
    "from sklearn.tree import DecisionTreeRegressor\n",
    "from sklearn import preprocessing\n",
    "from sklearn.model_selection import RandomizedSearchCV\n",
    "from sklearn.pipeline import Pipeline\n",
    "from sklearn.preprocessing import StandardScaler\n",
    "from sklearn.metrics import f1_score\n",
    "from sklearn import metrics\n",
    "import seaborn as sns\n",
    "from rfpimp import *"
   ]
  },
  {
   "cell_type": "markdown",
   "metadata": {},
   "source": [
    "# Project Goal"
   ]
  },
  {
   "cell_type": "markdown",
   "metadata": {},
   "source": [
    "The goal of this project is to predict the finish placement of the PlayerUknown’s BattleGrounds(PUBG) players."
   ]
  },
  {
   "cell_type": "markdown",
   "metadata": {
    "ExecuteTime": {
     "end_time": "2019-11-23T00:40:21.874737Z",
     "start_time": "2019-11-23T00:40:21.868765Z"
    }
   },
   "source": [
    "## 1. Load Data"
   ]
  },
  {
   "cell_type": "markdown",
   "metadata": {},
   "source": [
    "### Please refer to this link to download the data if the train_V2.csv in the repo doesn't show properly:  \n",
    "https://www.kaggle.com/c/pubg-finish-placement-prediction/download/train_V2.csv\n"
   ]
  },
  {
   "cell_type": "markdown",
   "metadata": {
    "ExecuteTime": {
     "end_time": "2019-12-11T19:36:01.501678Z",
     "start_time": "2019-12-11T19:36:01.495701Z"
    }
   },
   "source": [
    "### Data Description"
   ]
  },
  {
   "cell_type": "markdown",
   "metadata": {},
   "source": [
    "- Data source: https://www.kaggle.com/c/pubg-finish-placement-prediction/data\n",
    "- Target：winPlacePerc, player’s percentile in one game (float, 0 to 1).\n",
    "- Number of observations: >4 M, each row contains a player's post-game stats.\n",
    "- Number of raw features: 28, including player’s stats such as assists, boosts, damage, kills, player per match, - player per group, walk distance..."
   ]
  },
  {
   "cell_type": "code",
   "execution_count": 2,
   "metadata": {
    "ExecuteTime": {
     "end_time": "2019-12-11T07:47:55.082204Z",
     "start_time": "2019-12-11T07:47:39.040713Z"
    }
   },
   "outputs": [],
   "source": [
    "data = pd.read_csv('train_V2.csv')"
   ]
  },
  {
   "cell_type": "code",
   "execution_count": 3,
   "metadata": {
    "ExecuteTime": {
     "end_time": "2019-12-11T07:47:55.100669Z",
     "start_time": "2019-12-11T07:47:55.084140Z"
    }
   },
   "outputs": [
    {
     "data": {
      "text/html": [
       "<div>\n",
       "<style scoped>\n",
       "    .dataframe tbody tr th:only-of-type {\n",
       "        vertical-align: middle;\n",
       "    }\n",
       "\n",
       "    .dataframe tbody tr th {\n",
       "        vertical-align: top;\n",
       "    }\n",
       "\n",
       "    .dataframe thead th {\n",
       "        text-align: right;\n",
       "    }\n",
       "</style>\n",
       "<table border=\"1\" class=\"dataframe\">\n",
       "  <thead>\n",
       "    <tr style=\"text-align: right;\">\n",
       "      <th></th>\n",
       "      <th>0</th>\n",
       "      <th>1</th>\n",
       "    </tr>\n",
       "  </thead>\n",
       "  <tbody>\n",
       "    <tr>\n",
       "      <td>Id</td>\n",
       "      <td>7f96b2f878858a</td>\n",
       "      <td>eef90569b9d03c</td>\n",
       "    </tr>\n",
       "    <tr>\n",
       "      <td>groupId</td>\n",
       "      <td>4d4b580de459be</td>\n",
       "      <td>684d5656442f9e</td>\n",
       "    </tr>\n",
       "    <tr>\n",
       "      <td>matchId</td>\n",
       "      <td>a10357fd1a4a91</td>\n",
       "      <td>aeb375fc57110c</td>\n",
       "    </tr>\n",
       "    <tr>\n",
       "      <td>assists</td>\n",
       "      <td>0</td>\n",
       "      <td>0</td>\n",
       "    </tr>\n",
       "    <tr>\n",
       "      <td>boosts</td>\n",
       "      <td>0</td>\n",
       "      <td>0</td>\n",
       "    </tr>\n",
       "    <tr>\n",
       "      <td>damageDealt</td>\n",
       "      <td>0</td>\n",
       "      <td>91.47</td>\n",
       "    </tr>\n",
       "    <tr>\n",
       "      <td>DBNOs</td>\n",
       "      <td>0</td>\n",
       "      <td>0</td>\n",
       "    </tr>\n",
       "    <tr>\n",
       "      <td>headshotKills</td>\n",
       "      <td>0</td>\n",
       "      <td>0</td>\n",
       "    </tr>\n",
       "    <tr>\n",
       "      <td>heals</td>\n",
       "      <td>0</td>\n",
       "      <td>0</td>\n",
       "    </tr>\n",
       "    <tr>\n",
       "      <td>killPlace</td>\n",
       "      <td>60</td>\n",
       "      <td>57</td>\n",
       "    </tr>\n",
       "    <tr>\n",
       "      <td>killPoints</td>\n",
       "      <td>1241</td>\n",
       "      <td>0</td>\n",
       "    </tr>\n",
       "    <tr>\n",
       "      <td>kills</td>\n",
       "      <td>0</td>\n",
       "      <td>0</td>\n",
       "    </tr>\n",
       "    <tr>\n",
       "      <td>killStreaks</td>\n",
       "      <td>0</td>\n",
       "      <td>0</td>\n",
       "    </tr>\n",
       "    <tr>\n",
       "      <td>longestKill</td>\n",
       "      <td>0</td>\n",
       "      <td>0</td>\n",
       "    </tr>\n",
       "    <tr>\n",
       "      <td>matchDuration</td>\n",
       "      <td>1306</td>\n",
       "      <td>1777</td>\n",
       "    </tr>\n",
       "    <tr>\n",
       "      <td>matchType</td>\n",
       "      <td>squad-fpp</td>\n",
       "      <td>squad-fpp</td>\n",
       "    </tr>\n",
       "    <tr>\n",
       "      <td>maxPlace</td>\n",
       "      <td>28</td>\n",
       "      <td>26</td>\n",
       "    </tr>\n",
       "    <tr>\n",
       "      <td>numGroups</td>\n",
       "      <td>26</td>\n",
       "      <td>25</td>\n",
       "    </tr>\n",
       "    <tr>\n",
       "      <td>rankPoints</td>\n",
       "      <td>-1</td>\n",
       "      <td>1484</td>\n",
       "    </tr>\n",
       "    <tr>\n",
       "      <td>revives</td>\n",
       "      <td>0</td>\n",
       "      <td>0</td>\n",
       "    </tr>\n",
       "    <tr>\n",
       "      <td>rideDistance</td>\n",
       "      <td>0</td>\n",
       "      <td>0.0045</td>\n",
       "    </tr>\n",
       "    <tr>\n",
       "      <td>roadKills</td>\n",
       "      <td>0</td>\n",
       "      <td>0</td>\n",
       "    </tr>\n",
       "    <tr>\n",
       "      <td>swimDistance</td>\n",
       "      <td>0</td>\n",
       "      <td>11.04</td>\n",
       "    </tr>\n",
       "    <tr>\n",
       "      <td>teamKills</td>\n",
       "      <td>0</td>\n",
       "      <td>0</td>\n",
       "    </tr>\n",
       "    <tr>\n",
       "      <td>vehicleDestroys</td>\n",
       "      <td>0</td>\n",
       "      <td>0</td>\n",
       "    </tr>\n",
       "    <tr>\n",
       "      <td>walkDistance</td>\n",
       "      <td>244.8</td>\n",
       "      <td>1434</td>\n",
       "    </tr>\n",
       "    <tr>\n",
       "      <td>weaponsAcquired</td>\n",
       "      <td>1</td>\n",
       "      <td>5</td>\n",
       "    </tr>\n",
       "    <tr>\n",
       "      <td>winPoints</td>\n",
       "      <td>1466</td>\n",
       "      <td>0</td>\n",
       "    </tr>\n",
       "    <tr>\n",
       "      <td>winPlacePerc</td>\n",
       "      <td>0.4444</td>\n",
       "      <td>0.64</td>\n",
       "    </tr>\n",
       "  </tbody>\n",
       "</table>\n",
       "</div>"
      ],
      "text/plain": [
       "                              0               1\n",
       "Id               7f96b2f878858a  eef90569b9d03c\n",
       "groupId          4d4b580de459be  684d5656442f9e\n",
       "matchId          a10357fd1a4a91  aeb375fc57110c\n",
       "assists                       0               0\n",
       "boosts                        0               0\n",
       "damageDealt                   0           91.47\n",
       "DBNOs                         0               0\n",
       "headshotKills                 0               0\n",
       "heals                         0               0\n",
       "killPlace                    60              57\n",
       "killPoints                 1241               0\n",
       "kills                         0               0\n",
       "killStreaks                   0               0\n",
       "longestKill                   0               0\n",
       "matchDuration              1306            1777\n",
       "matchType             squad-fpp       squad-fpp\n",
       "maxPlace                     28              26\n",
       "numGroups                    26              25\n",
       "rankPoints                   -1            1484\n",
       "revives                       0               0\n",
       "rideDistance                  0          0.0045\n",
       "roadKills                     0               0\n",
       "swimDistance                  0           11.04\n",
       "teamKills                     0               0\n",
       "vehicleDestroys               0               0\n",
       "walkDistance              244.8            1434\n",
       "weaponsAcquired               1               5\n",
       "winPoints                  1466               0\n",
       "winPlacePerc             0.4444            0.64"
      ]
     },
     "execution_count": 3,
     "metadata": {},
     "output_type": "execute_result"
    }
   ],
   "source": [
    "data.head(2).T"
   ]
  },
  {
   "cell_type": "markdown",
   "metadata": {},
   "source": [
    "## 2. Process Data"
   ]
  },
  {
   "cell_type": "markdown",
   "metadata": {},
   "source": [
    "We added 2 new features: player per match by counting the match ids and player per group by counting the group ids."
   ]
  },
  {
   "cell_type": "markdown",
   "metadata": {},
   "source": [
    "To eliminate possible outliers, we dropped matches that have less than 80 players or have group with more than 4 players. "
   ]
  },
  {
   "cell_type": "markdown",
   "metadata": {},
   "source": [
    "We also down sample the data to 165 thousand rows and dropped 4 highly related features."
   ]
  },
  {
   "cell_type": "markdown",
   "metadata": {},
   "source": [
    "Finally, we made a train-validation-test split."
   ]
  },
  {
   "cell_type": "markdown",
   "metadata": {},
   "source": [
    "#### (1) Get the number of user per match and merge it to the orginal dataset"
   ]
  },
  {
   "cell_type": "code",
   "execution_count": 4,
   "metadata": {
    "ExecuteTime": {
     "end_time": "2019-12-11T07:48:05.699499Z",
     "start_time": "2019-12-11T07:47:55.102926Z"
    }
   },
   "outputs": [],
   "source": [
    "player_per_match = data.groupby('matchId').count()[['Id']].reset_index()\n",
    "player_per_match.columns = ['matchId','player_per_match']\n",
    "data_new = data.merge(player_per_match, on='matchId', how='left')"
   ]
  },
  {
   "cell_type": "code",
   "execution_count": 5,
   "metadata": {
    "ExecuteTime": {
     "end_time": "2019-12-11T07:48:05.742831Z",
     "start_time": "2019-12-11T07:48:05.703660Z"
    },
    "scrolled": true
   },
   "outputs": [
    {
     "data": {
      "text/html": [
       "<div>\n",
       "<style scoped>\n",
       "    .dataframe tbody tr th:only-of-type {\n",
       "        vertical-align: middle;\n",
       "    }\n",
       "\n",
       "    .dataframe tbody tr th {\n",
       "        vertical-align: top;\n",
       "    }\n",
       "\n",
       "    .dataframe thead th {\n",
       "        text-align: right;\n",
       "    }\n",
       "</style>\n",
       "<table border=\"1\" class=\"dataframe\">\n",
       "  <thead>\n",
       "    <tr style=\"text-align: right;\">\n",
       "      <th></th>\n",
       "      <th>Id</th>\n",
       "      <th>groupId</th>\n",
       "      <th>matchId</th>\n",
       "      <th>assists</th>\n",
       "      <th>boosts</th>\n",
       "      <th>damageDealt</th>\n",
       "      <th>DBNOs</th>\n",
       "      <th>headshotKills</th>\n",
       "      <th>heals</th>\n",
       "      <th>killPlace</th>\n",
       "      <th>...</th>\n",
       "      <th>rideDistance</th>\n",
       "      <th>roadKills</th>\n",
       "      <th>swimDistance</th>\n",
       "      <th>teamKills</th>\n",
       "      <th>vehicleDestroys</th>\n",
       "      <th>walkDistance</th>\n",
       "      <th>weaponsAcquired</th>\n",
       "      <th>winPoints</th>\n",
       "      <th>winPlacePerc</th>\n",
       "      <th>player_per_match</th>\n",
       "    </tr>\n",
       "  </thead>\n",
       "  <tbody>\n",
       "    <tr>\n",
       "      <td>0</td>\n",
       "      <td>7f96b2f878858a</td>\n",
       "      <td>4d4b580de459be</td>\n",
       "      <td>a10357fd1a4a91</td>\n",
       "      <td>0</td>\n",
       "      <td>0</td>\n",
       "      <td>0.00</td>\n",
       "      <td>0</td>\n",
       "      <td>0</td>\n",
       "      <td>0</td>\n",
       "      <td>60</td>\n",
       "      <td>...</td>\n",
       "      <td>0.0000</td>\n",
       "      <td>0</td>\n",
       "      <td>0.00</td>\n",
       "      <td>0</td>\n",
       "      <td>0</td>\n",
       "      <td>244.80</td>\n",
       "      <td>1</td>\n",
       "      <td>1466</td>\n",
       "      <td>0.4444</td>\n",
       "      <td>96</td>\n",
       "    </tr>\n",
       "    <tr>\n",
       "      <td>1</td>\n",
       "      <td>eef90569b9d03c</td>\n",
       "      <td>684d5656442f9e</td>\n",
       "      <td>aeb375fc57110c</td>\n",
       "      <td>0</td>\n",
       "      <td>0</td>\n",
       "      <td>91.47</td>\n",
       "      <td>0</td>\n",
       "      <td>0</td>\n",
       "      <td>0</td>\n",
       "      <td>57</td>\n",
       "      <td>...</td>\n",
       "      <td>0.0045</td>\n",
       "      <td>0</td>\n",
       "      <td>11.04</td>\n",
       "      <td>0</td>\n",
       "      <td>0</td>\n",
       "      <td>1434.00</td>\n",
       "      <td>5</td>\n",
       "      <td>0</td>\n",
       "      <td>0.6400</td>\n",
       "      <td>91</td>\n",
       "    </tr>\n",
       "    <tr>\n",
       "      <td>2</td>\n",
       "      <td>1eaf90ac73de72</td>\n",
       "      <td>6a4a42c3245a74</td>\n",
       "      <td>110163d8bb94ae</td>\n",
       "      <td>1</td>\n",
       "      <td>0</td>\n",
       "      <td>68.00</td>\n",
       "      <td>0</td>\n",
       "      <td>0</td>\n",
       "      <td>0</td>\n",
       "      <td>47</td>\n",
       "      <td>...</td>\n",
       "      <td>0.0000</td>\n",
       "      <td>0</td>\n",
       "      <td>0.00</td>\n",
       "      <td>0</td>\n",
       "      <td>0</td>\n",
       "      <td>161.80</td>\n",
       "      <td>2</td>\n",
       "      <td>0</td>\n",
       "      <td>0.7755</td>\n",
       "      <td>98</td>\n",
       "    </tr>\n",
       "    <tr>\n",
       "      <td>3</td>\n",
       "      <td>4616d365dd2853</td>\n",
       "      <td>a930a9c79cd721</td>\n",
       "      <td>f1f1f4ef412d7e</td>\n",
       "      <td>0</td>\n",
       "      <td>0</td>\n",
       "      <td>32.90</td>\n",
       "      <td>0</td>\n",
       "      <td>0</td>\n",
       "      <td>0</td>\n",
       "      <td>75</td>\n",
       "      <td>...</td>\n",
       "      <td>0.0000</td>\n",
       "      <td>0</td>\n",
       "      <td>0.00</td>\n",
       "      <td>0</td>\n",
       "      <td>0</td>\n",
       "      <td>202.70</td>\n",
       "      <td>3</td>\n",
       "      <td>0</td>\n",
       "      <td>0.1667</td>\n",
       "      <td>91</td>\n",
       "    </tr>\n",
       "    <tr>\n",
       "      <td>4</td>\n",
       "      <td>315c96c26c9aac</td>\n",
       "      <td>de04010b3458dd</td>\n",
       "      <td>6dc8ff871e21e6</td>\n",
       "      <td>0</td>\n",
       "      <td>0</td>\n",
       "      <td>100.00</td>\n",
       "      <td>0</td>\n",
       "      <td>0</td>\n",
       "      <td>0</td>\n",
       "      <td>45</td>\n",
       "      <td>...</td>\n",
       "      <td>0.0000</td>\n",
       "      <td>0</td>\n",
       "      <td>0.00</td>\n",
       "      <td>0</td>\n",
       "      <td>0</td>\n",
       "      <td>49.75</td>\n",
       "      <td>2</td>\n",
       "      <td>0</td>\n",
       "      <td>0.1875</td>\n",
       "      <td>97</td>\n",
       "    </tr>\n",
       "  </tbody>\n",
       "</table>\n",
       "<p>5 rows × 30 columns</p>\n",
       "</div>"
      ],
      "text/plain": [
       "               Id         groupId         matchId  assists  boosts  \\\n",
       "0  7f96b2f878858a  4d4b580de459be  a10357fd1a4a91        0       0   \n",
       "1  eef90569b9d03c  684d5656442f9e  aeb375fc57110c        0       0   \n",
       "2  1eaf90ac73de72  6a4a42c3245a74  110163d8bb94ae        1       0   \n",
       "3  4616d365dd2853  a930a9c79cd721  f1f1f4ef412d7e        0       0   \n",
       "4  315c96c26c9aac  de04010b3458dd  6dc8ff871e21e6        0       0   \n",
       "\n",
       "   damageDealt  DBNOs  headshotKills  heals  killPlace  ...  rideDistance  \\\n",
       "0         0.00      0              0      0         60  ...        0.0000   \n",
       "1        91.47      0              0      0         57  ...        0.0045   \n",
       "2        68.00      0              0      0         47  ...        0.0000   \n",
       "3        32.90      0              0      0         75  ...        0.0000   \n",
       "4       100.00      0              0      0         45  ...        0.0000   \n",
       "\n",
       "   roadKills  swimDistance  teamKills  vehicleDestroys walkDistance  \\\n",
       "0          0          0.00          0                0       244.80   \n",
       "1          0         11.04          0                0      1434.00   \n",
       "2          0          0.00          0                0       161.80   \n",
       "3          0          0.00          0                0       202.70   \n",
       "4          0          0.00          0                0        49.75   \n",
       "\n",
       "   weaponsAcquired  winPoints  winPlacePerc  player_per_match  \n",
       "0                1       1466        0.4444                96  \n",
       "1                5          0        0.6400                91  \n",
       "2                2          0        0.7755                98  \n",
       "3                3          0        0.1667                91  \n",
       "4                2          0        0.1875                97  \n",
       "\n",
       "[5 rows x 30 columns]"
      ]
     },
     "execution_count": 5,
     "metadata": {},
     "output_type": "execute_result"
    }
   ],
   "source": [
    "data_new.head(5)"
   ]
  },
  {
   "cell_type": "code",
   "execution_count": 6,
   "metadata": {
    "ExecuteTime": {
     "end_time": "2019-12-11T07:48:13.092481Z",
     "start_time": "2019-12-11T07:48:05.744786Z"
    },
    "scrolled": false
   },
   "outputs": [
    {
     "data": {
      "image/png": "[encoded data removed]",
      "text/plain": [
       "<Figure size 1080x720 with 1 Axes>"
      ]
     },
     "metadata": {
      "needs_background": "light"
     },
     "output_type": "display_data"
    }
   ],
   "source": [
    "plt.figure(figsize=(15,10))\n",
    "sns.set(font_scale=2)\n",
    "player_match = sns.countplot(data_new.loc[data_new['player_per_match']>=80]['player_per_match'])\n",
    "player_match.axes.set_title(\"player per match\", fontsize=40)\n",
    "player_match.set_xlabel('') \n",
    "player_match.set_ylabel('')\n",
    "player_match.yaxis.set_major_formatter(ticker.EngFormatter())\n",
    "plt.show()"
   ]
  },
  {
   "cell_type": "markdown",
   "metadata": {},
   "source": [
    "#### (2) Get the number of user per group and merge it to the original dataset"
   ]
  },
  {
   "cell_type": "code",
   "execution_count": 7,
   "metadata": {
    "ExecuteTime": {
     "end_time": "2019-12-11T07:48:29.090726Z",
     "start_time": "2019-12-11T07:48:13.099217Z"
    }
   },
   "outputs": [],
   "source": [
    "group_info = data.groupby(['matchId','groupId']).count()[['Id']].reset_index()\n",
    "group_info.columns = ['matchId', 'groupId', 'player_per_group']"
   ]
  },
  {
   "cell_type": "code",
   "execution_count": 8,
   "metadata": {
    "ExecuteTime": {
     "end_time": "2019-12-11T07:48:43.682618Z",
     "start_time": "2019-12-11T07:48:29.097881Z"
    }
   },
   "outputs": [],
   "source": [
    "data_new = data_new.merge(group_info, on=['matchId','groupId'], how='left')"
   ]
  },
  {
   "cell_type": "code",
   "execution_count": 9,
   "metadata": {
    "ExecuteTime": {
     "end_time": "2019-12-11T07:48:43.733194Z",
     "start_time": "2019-12-11T07:48:43.685834Z"
    }
   },
   "outputs": [
    {
     "data": {
      "text/html": [
       "<div>\n",
       "<style scoped>\n",
       "    .dataframe tbody tr th:only-of-type {\n",
       "        vertical-align: middle;\n",
       "    }\n",
       "\n",
       "    .dataframe tbody tr th {\n",
       "        vertical-align: top;\n",
       "    }\n",
       "\n",
       "    .dataframe thead th {\n",
       "        text-align: right;\n",
       "    }\n",
       "</style>\n",
       "<table border=\"1\" class=\"dataframe\">\n",
       "  <thead>\n",
       "    <tr style=\"text-align: right;\">\n",
       "      <th></th>\n",
       "      <th>Id</th>\n",
       "      <th>groupId</th>\n",
       "      <th>matchId</th>\n",
       "      <th>assists</th>\n",
       "      <th>boosts</th>\n",
       "      <th>damageDealt</th>\n",
       "      <th>DBNOs</th>\n",
       "      <th>headshotKills</th>\n",
       "      <th>heals</th>\n",
       "      <th>killPlace</th>\n",
       "      <th>...</th>\n",
       "      <th>roadKills</th>\n",
       "      <th>swimDistance</th>\n",
       "      <th>teamKills</th>\n",
       "      <th>vehicleDestroys</th>\n",
       "      <th>walkDistance</th>\n",
       "      <th>weaponsAcquired</th>\n",
       "      <th>winPoints</th>\n",
       "      <th>winPlacePerc</th>\n",
       "      <th>player_per_match</th>\n",
       "      <th>player_per_group</th>\n",
       "    </tr>\n",
       "  </thead>\n",
       "  <tbody>\n",
       "    <tr>\n",
       "      <td>0</td>\n",
       "      <td>7f96b2f878858a</td>\n",
       "      <td>4d4b580de459be</td>\n",
       "      <td>a10357fd1a4a91</td>\n",
       "      <td>0</td>\n",
       "      <td>0</td>\n",
       "      <td>0.000</td>\n",
       "      <td>0</td>\n",
       "      <td>0</td>\n",
       "      <td>0</td>\n",
       "      <td>60</td>\n",
       "      <td>...</td>\n",
       "      <td>0</td>\n",
       "      <td>0.00</td>\n",
       "      <td>0</td>\n",
       "      <td>0</td>\n",
       "      <td>244.80</td>\n",
       "      <td>1</td>\n",
       "      <td>1466</td>\n",
       "      <td>0.4444</td>\n",
       "      <td>96</td>\n",
       "      <td>4</td>\n",
       "    </tr>\n",
       "    <tr>\n",
       "      <td>1</td>\n",
       "      <td>eef90569b9d03c</td>\n",
       "      <td>684d5656442f9e</td>\n",
       "      <td>aeb375fc57110c</td>\n",
       "      <td>0</td>\n",
       "      <td>0</td>\n",
       "      <td>91.470</td>\n",
       "      <td>0</td>\n",
       "      <td>0</td>\n",
       "      <td>0</td>\n",
       "      <td>57</td>\n",
       "      <td>...</td>\n",
       "      <td>0</td>\n",
       "      <td>11.04</td>\n",
       "      <td>0</td>\n",
       "      <td>0</td>\n",
       "      <td>1434.00</td>\n",
       "      <td>5</td>\n",
       "      <td>0</td>\n",
       "      <td>0.6400</td>\n",
       "      <td>91</td>\n",
       "      <td>4</td>\n",
       "    </tr>\n",
       "    <tr>\n",
       "      <td>2</td>\n",
       "      <td>1eaf90ac73de72</td>\n",
       "      <td>6a4a42c3245a74</td>\n",
       "      <td>110163d8bb94ae</td>\n",
       "      <td>1</td>\n",
       "      <td>0</td>\n",
       "      <td>68.000</td>\n",
       "      <td>0</td>\n",
       "      <td>0</td>\n",
       "      <td>0</td>\n",
       "      <td>47</td>\n",
       "      <td>...</td>\n",
       "      <td>0</td>\n",
       "      <td>0.00</td>\n",
       "      <td>0</td>\n",
       "      <td>0</td>\n",
       "      <td>161.80</td>\n",
       "      <td>2</td>\n",
       "      <td>0</td>\n",
       "      <td>0.7755</td>\n",
       "      <td>98</td>\n",
       "      <td>2</td>\n",
       "    </tr>\n",
       "    <tr>\n",
       "      <td>3</td>\n",
       "      <td>4616d365dd2853</td>\n",
       "      <td>a930a9c79cd721</td>\n",
       "      <td>f1f1f4ef412d7e</td>\n",
       "      <td>0</td>\n",
       "      <td>0</td>\n",
       "      <td>32.900</td>\n",
       "      <td>0</td>\n",
       "      <td>0</td>\n",
       "      <td>0</td>\n",
       "      <td>75</td>\n",
       "      <td>...</td>\n",
       "      <td>0</td>\n",
       "      <td>0.00</td>\n",
       "      <td>0</td>\n",
       "      <td>0</td>\n",
       "      <td>202.70</td>\n",
       "      <td>3</td>\n",
       "      <td>0</td>\n",
       "      <td>0.1667</td>\n",
       "      <td>91</td>\n",
       "      <td>1</td>\n",
       "    </tr>\n",
       "    <tr>\n",
       "      <td>4</td>\n",
       "      <td>315c96c26c9aac</td>\n",
       "      <td>de04010b3458dd</td>\n",
       "      <td>6dc8ff871e21e6</td>\n",
       "      <td>0</td>\n",
       "      <td>0</td>\n",
       "      <td>100.000</td>\n",
       "      <td>0</td>\n",
       "      <td>0</td>\n",
       "      <td>0</td>\n",
       "      <td>45</td>\n",
       "      <td>...</td>\n",
       "      <td>0</td>\n",
       "      <td>0.00</td>\n",
       "      <td>0</td>\n",
       "      <td>0</td>\n",
       "      <td>49.75</td>\n",
       "      <td>2</td>\n",
       "      <td>0</td>\n",
       "      <td>0.1875</td>\n",
       "      <td>97</td>\n",
       "      <td>1</td>\n",
       "    </tr>\n",
       "    <tr>\n",
       "      <td>5</td>\n",
       "      <td>ff79c12f326506</td>\n",
       "      <td>289a6836a88d27</td>\n",
       "      <td>bac52627a12114</td>\n",
       "      <td>0</td>\n",
       "      <td>0</td>\n",
       "      <td>100.000</td>\n",
       "      <td>1</td>\n",
       "      <td>1</td>\n",
       "      <td>0</td>\n",
       "      <td>44</td>\n",
       "      <td>...</td>\n",
       "      <td>0</td>\n",
       "      <td>0.00</td>\n",
       "      <td>0</td>\n",
       "      <td>0</td>\n",
       "      <td>34.70</td>\n",
       "      <td>1</td>\n",
       "      <td>0</td>\n",
       "      <td>0.0370</td>\n",
       "      <td>95</td>\n",
       "      <td>10</td>\n",
       "    </tr>\n",
       "    <tr>\n",
       "      <td>6</td>\n",
       "      <td>95959be0e21ca3</td>\n",
       "      <td>2c485a1ad3d0f1</td>\n",
       "      <td>a8274e903927a2</td>\n",
       "      <td>0</td>\n",
       "      <td>0</td>\n",
       "      <td>0.000</td>\n",
       "      <td>0</td>\n",
       "      <td>0</td>\n",
       "      <td>0</td>\n",
       "      <td>96</td>\n",
       "      <td>...</td>\n",
       "      <td>0</td>\n",
       "      <td>0.00</td>\n",
       "      <td>0</td>\n",
       "      <td>0</td>\n",
       "      <td>13.50</td>\n",
       "      <td>1</td>\n",
       "      <td>1497</td>\n",
       "      <td>0.0000</td>\n",
       "      <td>97</td>\n",
       "      <td>6</td>\n",
       "    </tr>\n",
       "    <tr>\n",
       "      <td>7</td>\n",
       "      <td>311b84c6ff4390</td>\n",
       "      <td>eaba5fcb7fc1ae</td>\n",
       "      <td>292611730ca862</td>\n",
       "      <td>0</td>\n",
       "      <td>0</td>\n",
       "      <td>8.538</td>\n",
       "      <td>0</td>\n",
       "      <td>0</td>\n",
       "      <td>0</td>\n",
       "      <td>48</td>\n",
       "      <td>...</td>\n",
       "      <td>0</td>\n",
       "      <td>0.00</td>\n",
       "      <td>0</td>\n",
       "      <td>0</td>\n",
       "      <td>1089.00</td>\n",
       "      <td>6</td>\n",
       "      <td>1500</td>\n",
       "      <td>0.7368</td>\n",
       "      <td>96</td>\n",
       "      <td>1</td>\n",
       "    </tr>\n",
       "    <tr>\n",
       "      <td>8</td>\n",
       "      <td>1a68204ccf9891</td>\n",
       "      <td>47cfbb04e1b1a2</td>\n",
       "      <td>df014fbee741c6</td>\n",
       "      <td>0</td>\n",
       "      <td>0</td>\n",
       "      <td>51.600</td>\n",
       "      <td>0</td>\n",
       "      <td>0</td>\n",
       "      <td>0</td>\n",
       "      <td>64</td>\n",
       "      <td>...</td>\n",
       "      <td>0</td>\n",
       "      <td>0.00</td>\n",
       "      <td>0</td>\n",
       "      <td>0</td>\n",
       "      <td>799.90</td>\n",
       "      <td>4</td>\n",
       "      <td>0</td>\n",
       "      <td>0.3704</td>\n",
       "      <td>97</td>\n",
       "      <td>3</td>\n",
       "    </tr>\n",
       "    <tr>\n",
       "      <td>9</td>\n",
       "      <td>e5bb5a43587253</td>\n",
       "      <td>759bb6f7514fd2</td>\n",
       "      <td>3d3031c795305b</td>\n",
       "      <td>0</td>\n",
       "      <td>0</td>\n",
       "      <td>37.270</td>\n",
       "      <td>0</td>\n",
       "      <td>0</td>\n",
       "      <td>0</td>\n",
       "      <td>74</td>\n",
       "      <td>...</td>\n",
       "      <td>0</td>\n",
       "      <td>0.00</td>\n",
       "      <td>0</td>\n",
       "      <td>0</td>\n",
       "      <td>65.67</td>\n",
       "      <td>1</td>\n",
       "      <td>0</td>\n",
       "      <td>0.2143</td>\n",
       "      <td>97</td>\n",
       "      <td>3</td>\n",
       "    </tr>\n",
       "  </tbody>\n",
       "</table>\n",
       "<p>10 rows × 31 columns</p>\n",
       "</div>"
      ],
      "text/plain": [
       "               Id         groupId         matchId  assists  boosts  \\\n",
       "0  7f96b2f878858a  4d4b580de459be  a10357fd1a4a91        0       0   \n",
       "1  eef90569b9d03c  684d5656442f9e  aeb375fc57110c        0       0   \n",
       "2  1eaf90ac73de72  6a4a42c3245a74  110163d8bb94ae        1       0   \n",
       "3  4616d365dd2853  a930a9c79cd721  f1f1f4ef412d7e        0       0   \n",
       "4  315c96c26c9aac  de04010b3458dd  6dc8ff871e21e6        0       0   \n",
       "5  ff79c12f326506  289a6836a88d27  bac52627a12114        0       0   \n",
       "6  95959be0e21ca3  2c485a1ad3d0f1  a8274e903927a2        0       0   \n",
       "7  311b84c6ff4390  eaba5fcb7fc1ae  292611730ca862        0       0   \n",
       "8  1a68204ccf9891  47cfbb04e1b1a2  df014fbee741c6        0       0   \n",
       "9  e5bb5a43587253  759bb6f7514fd2  3d3031c795305b        0       0   \n",
       "\n",
       "   damageDealt  DBNOs  headshotKills  heals  killPlace  ...  roadKills  \\\n",
       "0        0.000      0              0      0         60  ...          0   \n",
       "1       91.470      0              0      0         57  ...          0   \n",
       "2       68.000      0              0      0         47  ...          0   \n",
       "3       32.900      0              0      0         75  ...          0   \n",
       "4      100.000      0              0      0         45  ...          0   \n",
       "5      100.000      1              1      0         44  ...          0   \n",
       "6        0.000      0              0      0         96  ...          0   \n",
       "7        8.538      0              0      0         48  ...          0   \n",
       "8       51.600      0              0      0         64  ...          0   \n",
       "9       37.270      0              0      0         74  ...          0   \n",
       "\n",
       "   swimDistance  teamKills  vehicleDestroys  walkDistance weaponsAcquired  \\\n",
       "0          0.00          0                0        244.80               1   \n",
       "1         11.04          0                0       1434.00               5   \n",
       "2          0.00          0                0        161.80               2   \n",
       "3          0.00          0                0        202.70               3   \n",
       "4          0.00          0                0         49.75               2   \n",
       "5          0.00          0                0         34.70               1   \n",
       "6          0.00          0                0         13.50               1   \n",
       "7          0.00          0                0       1089.00               6   \n",
       "8          0.00          0                0        799.90               4   \n",
       "9          0.00          0                0         65.67               1   \n",
       "\n",
       "   winPoints  winPlacePerc  player_per_match  player_per_group  \n",
       "0       1466        0.4444                96                 4  \n",
       "1          0        0.6400                91                 4  \n",
       "2          0        0.7755                98                 2  \n",
       "3          0        0.1667                91                 1  \n",
       "4          0        0.1875                97                 1  \n",
       "5          0        0.0370                95                10  \n",
       "6       1497        0.0000                97                 6  \n",
       "7       1500        0.7368                96                 1  \n",
       "8          0        0.3704                97                 3  \n",
       "9          0        0.2143                97                 3  \n",
       "\n",
       "[10 rows x 31 columns]"
      ]
     },
     "execution_count": 9,
     "metadata": {},
     "output_type": "execute_result"
    }
   ],
   "source": [
    "data_new.head(10)"
   ]
  },
  {
   "cell_type": "code",
   "execution_count": 10,
   "metadata": {
    "ExecuteTime": {
     "end_time": "2019-12-11T07:48:47.427915Z",
     "start_time": "2019-12-11T07:48:43.734896Z"
    }
   },
   "outputs": [
    {
     "data": {
      "image/png": "[encoded data removed]",
      "text/plain": [
       "<Figure size 1080x576 with 1 Axes>"
      ]
     },
     "metadata": {},
     "output_type": "display_data"
    }
   ],
   "source": [
    "plt.figure(figsize=(15,8))\n",
    "sns.set(font_scale=2.2)\n",
    "player_group = sns.countplot(data_new[data_new.player_per_group <= 20]['player_per_group'])\n",
    "player_group.axes.set_title(\"player per group\", fontsize=40)\n",
    "player_group.set_xlabel('') \n",
    "player_group.set_ylabel('')\n",
    "player_group.yaxis.set_major_formatter(ticker.EngFormatter())\n",
    "plt.show()"
   ]
  },
  {
   "cell_type": "markdown",
   "metadata": {},
   "source": [
    "#### (3) Eliminate those matches that are not normal match type\n",
    "\n",
    "Normal match type: over 80 players per match, less than 5 players per group"
   ]
  },
  {
   "cell_type": "code",
   "execution_count": 11,
   "metadata": {
    "ExecuteTime": {
     "end_time": "2019-12-11T07:48:47.859586Z",
     "start_time": "2019-12-11T07:48:47.430090Z"
    }
   },
   "outputs": [],
   "source": [
    "# Select matches with less than 80 players\n",
    "match_less_than_80 = list(data_new.loc[data_new['player_per_match']<80]['matchId'])\n",
    "# Select groups with more than 4 players\n",
    "match_group_not_use = list(data_new.loc[~data_new['player_per_group'].isin([1,2,3,4])]['matchId'])"
   ]
  },
  {
   "cell_type": "code",
   "execution_count": 12,
   "metadata": {
    "ExecuteTime": {
     "end_time": "2019-12-11T07:48:47.874548Z",
     "start_time": "2019-12-11T07:48:47.861145Z"
    }
   },
   "outputs": [],
   "source": [
    "lst = match_less_than_80 + match_group_not_use"
   ]
  },
  {
   "cell_type": "code",
   "execution_count": 13,
   "metadata": {
    "ExecuteTime": {
     "end_time": "2019-12-11T07:48:48.963572Z",
     "start_time": "2019-12-11T07:48:47.876584Z"
    }
   },
   "outputs": [],
   "source": [
    "data_dropped = data_new.loc[~data_new['matchId'].isin(lst)]"
   ]
  },
  {
   "cell_type": "code",
   "execution_count": 14,
   "metadata": {
    "ExecuteTime": {
     "end_time": "2019-12-11T07:48:48.983636Z",
     "start_time": "2019-12-11T07:48:48.965732Z"
    }
   },
   "outputs": [
    {
     "data": {
      "text/plain": [
       "array([ 97,  96,  95,  93,  92,  91,  94,  99,  90,  98,  88, 100,  84,\n",
       "        89,  80,  81,  86,  85,  87,  82,  83])"
      ]
     },
     "execution_count": 14,
     "metadata": {},
     "output_type": "execute_result"
    }
   ],
   "source": [
    "data_dropped['player_per_match'].unique()"
   ]
  },
  {
   "cell_type": "code",
   "execution_count": 15,
   "metadata": {
    "ExecuteTime": {
     "end_time": "2019-12-11T07:48:48.998296Z",
     "start_time": "2019-12-11T07:48:48.985566Z"
    }
   },
   "outputs": [
    {
     "data": {
      "text/plain": [
       "array([1, 2, 3, 4])"
      ]
     },
     "execution_count": 15,
     "metadata": {},
     "output_type": "execute_result"
    }
   ],
   "source": [
    "data_dropped['player_per_group'].unique()"
   ]
  },
  {
   "cell_type": "code",
   "execution_count": 16,
   "metadata": {
    "ExecuteTime": {
     "end_time": "2019-12-11T07:48:49.005986Z",
     "start_time": "2019-12-11T07:48:49.000268Z"
    }
   },
   "outputs": [
    {
     "data": {
      "text/plain": [
       "(1647723, 31)"
      ]
     },
     "execution_count": 16,
     "metadata": {},
     "output_type": "execute_result"
    }
   ],
   "source": [
    "data_dropped.shape"
   ]
  },
  {
   "cell_type": "markdown",
   "metadata": {},
   "source": [
    "#### (4) Encode groupId as numbers"
   ]
  },
  {
   "cell_type": "code",
   "execution_count": 17,
   "metadata": {
    "ExecuteTime": {
     "end_time": "2019-12-11T07:48:53.608680Z",
     "start_time": "2019-12-11T07:48:49.008146Z"
    }
   },
   "outputs": [
    {
     "name": "stderr",
     "output_type": "stream",
     "text": [
      "/opt/anaconda3/envs/ml/lib/python3.7/site-packages/ipykernel_launcher.py:3: SettingWithCopyWarning: \n",
      "A value is trying to be set on a copy of a slice from a DataFrame.\n",
      "Try using .loc[row_indexer,col_indexer] = value instead\n",
      "\n",
      "See the caveats in the documentation: http://pandas.pydata.org/pandas-docs/stable/user_guide/indexing.html#returning-a-view-versus-a-copy\n",
      "  This is separate from the ipykernel package so we can avoid doing imports until\n"
     ]
    }
   ],
   "source": [
    "le = preprocessing.LabelEncoder()\n",
    "le.fit(data_dropped['groupId'])\n",
    "data_dropped['groupIdNum'] = le.fit_transform(data_dropped['groupId'])"
   ]
  },
  {
   "cell_type": "code",
   "execution_count": 18,
   "metadata": {
    "ExecuteTime": {
     "end_time": "2019-12-11T07:48:53.713526Z",
     "start_time": "2019-12-11T07:48:53.611080Z"
    }
   },
   "outputs": [
    {
     "data": {
      "text/html": [
       "<div>\n",
       "<style scoped>\n",
       "    .dataframe tbody tr th:only-of-type {\n",
       "        vertical-align: middle;\n",
       "    }\n",
       "\n",
       "    .dataframe tbody tr th {\n",
       "        vertical-align: top;\n",
       "    }\n",
       "\n",
       "    .dataframe thead th {\n",
       "        text-align: right;\n",
       "    }\n",
       "</style>\n",
       "<table border=\"1\" class=\"dataframe\">\n",
       "  <thead>\n",
       "    <tr style=\"text-align: right;\">\n",
       "      <th></th>\n",
       "      <th>Id</th>\n",
       "      <th>groupId</th>\n",
       "      <th>matchId</th>\n",
       "      <th>assists</th>\n",
       "      <th>boosts</th>\n",
       "      <th>damageDealt</th>\n",
       "      <th>DBNOs</th>\n",
       "      <th>headshotKills</th>\n",
       "      <th>heals</th>\n",
       "      <th>killPlace</th>\n",
       "      <th>...</th>\n",
       "      <th>swimDistance</th>\n",
       "      <th>teamKills</th>\n",
       "      <th>vehicleDestroys</th>\n",
       "      <th>walkDistance</th>\n",
       "      <th>weaponsAcquired</th>\n",
       "      <th>winPoints</th>\n",
       "      <th>winPlacePerc</th>\n",
       "      <th>player_per_match</th>\n",
       "      <th>player_per_group</th>\n",
       "      <th>groupIdNum</th>\n",
       "    </tr>\n",
       "  </thead>\n",
       "  <tbody>\n",
       "    <tr>\n",
       "      <td>4</td>\n",
       "      <td>315c96c26c9aac</td>\n",
       "      <td>de04010b3458dd</td>\n",
       "      <td>6dc8ff871e21e6</td>\n",
       "      <td>0</td>\n",
       "      <td>0</td>\n",
       "      <td>100.000</td>\n",
       "      <td>0</td>\n",
       "      <td>0</td>\n",
       "      <td>0</td>\n",
       "      <td>45</td>\n",
       "      <td>...</td>\n",
       "      <td>0.00</td>\n",
       "      <td>0</td>\n",
       "      <td>0</td>\n",
       "      <td>49.75</td>\n",
       "      <td>2</td>\n",
       "      <td>0</td>\n",
       "      <td>0.1875</td>\n",
       "      <td>97</td>\n",
       "      <td>1</td>\n",
       "      <td>987158</td>\n",
       "    </tr>\n",
       "    <tr>\n",
       "      <td>7</td>\n",
       "      <td>311b84c6ff4390</td>\n",
       "      <td>eaba5fcb7fc1ae</td>\n",
       "      <td>292611730ca862</td>\n",
       "      <td>0</td>\n",
       "      <td>0</td>\n",
       "      <td>8.538</td>\n",
       "      <td>0</td>\n",
       "      <td>0</td>\n",
       "      <td>0</td>\n",
       "      <td>48</td>\n",
       "      <td>...</td>\n",
       "      <td>0.00</td>\n",
       "      <td>0</td>\n",
       "      <td>0</td>\n",
       "      <td>1089.00</td>\n",
       "      <td>6</td>\n",
       "      <td>1500</td>\n",
       "      <td>0.7368</td>\n",
       "      <td>96</td>\n",
       "      <td>1</td>\n",
       "      <td>1043489</td>\n",
       "    </tr>\n",
       "    <tr>\n",
       "      <td>13</td>\n",
       "      <td>b7807186e3f679</td>\n",
       "      <td>3c08e461874749</td>\n",
       "      <td>2c30ddf481c52d</td>\n",
       "      <td>0</td>\n",
       "      <td>1</td>\n",
       "      <td>324.200</td>\n",
       "      <td>0</td>\n",
       "      <td>1</td>\n",
       "      <td>5</td>\n",
       "      <td>5</td>\n",
       "      <td>...</td>\n",
       "      <td>76.84</td>\n",
       "      <td>0</td>\n",
       "      <td>0</td>\n",
       "      <td>2050.00</td>\n",
       "      <td>6</td>\n",
       "      <td>1462</td>\n",
       "      <td>0.8750</td>\n",
       "      <td>97</td>\n",
       "      <td>1</td>\n",
       "      <td>267906</td>\n",
       "    </tr>\n",
       "    <tr>\n",
       "      <td>15</td>\n",
       "      <td>12d8d4bd94312c</td>\n",
       "      <td>fe52d481bae68b</td>\n",
       "      <td>6fd9e765ddd0c5</td>\n",
       "      <td>0</td>\n",
       "      <td>0</td>\n",
       "      <td>80.710</td>\n",
       "      <td>1</td>\n",
       "      <td>0</td>\n",
       "      <td>0</td>\n",
       "      <td>72</td>\n",
       "      <td>...</td>\n",
       "      <td>0.00</td>\n",
       "      <td>0</td>\n",
       "      <td>0</td>\n",
       "      <td>105.10</td>\n",
       "      <td>5</td>\n",
       "      <td>0</td>\n",
       "      <td>0.2766</td>\n",
       "      <td>95</td>\n",
       "      <td>2</td>\n",
       "      <td>1131040</td>\n",
       "    </tr>\n",
       "    <tr>\n",
       "      <td>17</td>\n",
       "      <td>92022479b92ce7</td>\n",
       "      <td>2f2c33f548c4b9</td>\n",
       "      <td>07948d723b9c0f</td>\n",
       "      <td>0</td>\n",
       "      <td>3</td>\n",
       "      <td>254.300</td>\n",
       "      <td>0</td>\n",
       "      <td>0</td>\n",
       "      <td>12</td>\n",
       "      <td>13</td>\n",
       "      <td>...</td>\n",
       "      <td>15.29</td>\n",
       "      <td>0</td>\n",
       "      <td>0</td>\n",
       "      <td>1787.00</td>\n",
       "      <td>3</td>\n",
       "      <td>0</td>\n",
       "      <td>0.8211</td>\n",
       "      <td>96</td>\n",
       "      <td>1</td>\n",
       "      <td>210407</td>\n",
       "    </tr>\n",
       "  </tbody>\n",
       "</table>\n",
       "<p>5 rows × 32 columns</p>\n",
       "</div>"
      ],
      "text/plain": [
       "                Id         groupId         matchId  assists  boosts  \\\n",
       "4   315c96c26c9aac  de04010b3458dd  6dc8ff871e21e6        0       0   \n",
       "7   311b84c6ff4390  eaba5fcb7fc1ae  292611730ca862        0       0   \n",
       "13  b7807186e3f679  3c08e461874749  2c30ddf481c52d        0       1   \n",
       "15  12d8d4bd94312c  fe52d481bae68b  6fd9e765ddd0c5        0       0   \n",
       "17  92022479b92ce7  2f2c33f548c4b9  07948d723b9c0f        0       3   \n",
       "\n",
       "    damageDealt  DBNOs  headshotKills  heals  killPlace  ...  swimDistance  \\\n",
       "4       100.000      0              0      0         45  ...          0.00   \n",
       "7         8.538      0              0      0         48  ...          0.00   \n",
       "13      324.200      0              1      5          5  ...         76.84   \n",
       "15       80.710      1              0      0         72  ...          0.00   \n",
       "17      254.300      0              0     12         13  ...         15.29   \n",
       "\n",
       "    teamKills  vehicleDestroys  walkDistance  weaponsAcquired winPoints  \\\n",
       "4           0                0         49.75                2         0   \n",
       "7           0                0       1089.00                6      1500   \n",
       "13          0                0       2050.00                6      1462   \n",
       "15          0                0        105.10                5         0   \n",
       "17          0                0       1787.00                3         0   \n",
       "\n",
       "    winPlacePerc  player_per_match  player_per_group  groupIdNum  \n",
       "4         0.1875                97                 1      987158  \n",
       "7         0.7368                96                 1     1043489  \n",
       "13        0.8750                97                 1      267906  \n",
       "15        0.2766                95                 2     1131040  \n",
       "17        0.8211                96                 1      210407  \n",
       "\n",
       "[5 rows x 32 columns]"
      ]
     },
     "execution_count": 18,
     "metadata": {},
     "output_type": "execute_result"
    }
   ],
   "source": [
    "data_dropped.head()"
   ]
  },
  {
   "cell_type": "markdown",
   "metadata": {},
   "source": [
    "**(5) Down Sampling**"
   ]
  },
  {
   "cell_type": "code",
   "execution_count": 19,
   "metadata": {
    "ExecuteTime": {
     "end_time": "2019-12-11T07:48:54.011895Z",
     "start_time": "2019-12-11T07:48:53.715907Z"
    }
   },
   "outputs": [
    {
     "data": {
      "text/plain": [
       "17368"
      ]
     },
     "execution_count": 19,
     "metadata": {},
     "output_type": "execute_result"
    }
   ],
   "source": [
    "len(data_dropped.matchId.unique())"
   ]
  },
  {
   "cell_type": "code",
   "execution_count": 20,
   "metadata": {
    "ExecuteTime": {
     "end_time": "2019-12-11T07:48:54.022825Z",
     "start_time": "2019-12-11T07:48:54.014110Z"
    }
   },
   "outputs": [],
   "source": [
    "def downsample(df, r):\n",
    "    matchid = df.matchId.unique()\n",
    "    size = int(len(matchid)*r)\n",
    "    choice = np.random.choice(matchid, size = size, replace=False)\n",
    "    df = df[df.matchId.isin(choice)]\n",
    "    return df"
   ]
  },
  {
   "cell_type": "code",
   "execution_count": 21,
   "metadata": {
    "ExecuteTime": {
     "end_time": "2019-12-11T07:48:54.784872Z",
     "start_time": "2019-12-11T07:48:54.024816Z"
    }
   },
   "outputs": [
    {
     "data": {
      "text/plain": [
       "(164757, 32)"
      ]
     },
     "execution_count": 21,
     "metadata": {},
     "output_type": "execute_result"
    }
   ],
   "source": [
    "PUBG = downsample(data_dropped, 0.1)\n",
    "PUBG.shape"
   ]
  },
  {
   "cell_type": "markdown",
   "metadata": {},
   "source": [
    "#### (6) Set X and y and make train-validation-test split"
   ]
  },
  {
   "cell_type": "code",
   "execution_count": 22,
   "metadata": {
    "ExecuteTime": {
     "end_time": "2019-12-11T07:48:54.800011Z",
     "start_time": "2019-12-11T07:48:54.795644Z"
    }
   },
   "outputs": [],
   "source": [
    "#Split train, test, validation set by randomly choosing match ID\n",
    "def split(df, r):\n",
    "    matchid = df.matchId.unique()\n",
    "    size = int(len(matchid)*r)\n",
    "    choice = np.random.choice(matchid, size = size, replace=False)\n",
    "    df_test = df[df.matchId.isin(choice)]\n",
    "    df_train = df[~df.matchId.isin(choice)]\n",
    "    return df_train,df_test"
   ]
  },
  {
   "cell_type": "code",
   "execution_count": 23,
   "metadata": {
    "ExecuteTime": {
     "end_time": "2019-12-11T07:48:54.808851Z",
     "start_time": "2019-12-11T07:48:54.803475Z"
    }
   },
   "outputs": [],
   "source": [
    "# 'rankPoints', 'killPoints' are highly correlated with 'winPoints', 'maxPlace' is highly correlated with 'numGroup'.\n",
    "def drop(df):\n",
    "    y = df['winPlacePerc'].values.ravel()\n",
    "    X = df.drop(['winPlacePerc'], axis=1)\n",
    "    X = X.drop(['Id', 'groupId', 'matchId', 'matchType','rankPoints', 'killPoints', 'maxPlace'], axis=1)\n",
    "    return X,y"
   ]
  },
  {
   "cell_type": "code",
   "execution_count": 24,
   "metadata": {
    "ExecuteTime": {
     "end_time": "2019-12-11T07:48:54.948812Z",
     "start_time": "2019-12-11T07:48:54.810814Z"
    }
   },
   "outputs": [],
   "source": [
    "train, test = split(PUBG, 0.3)"
   ]
  },
  {
   "cell_type": "code",
   "execution_count": 25,
   "metadata": {
    "ExecuteTime": {
     "end_time": "2019-12-11T07:48:55.053129Z",
     "start_time": "2019-12-11T07:48:54.951601Z"
    }
   },
   "outputs": [],
   "source": [
    "train_train, train_valid = split(train, 0.3)"
   ]
  },
  {
   "cell_type": "code",
   "execution_count": 26,
   "metadata": {
    "ExecuteTime": {
     "end_time": "2019-12-11T07:48:55.142955Z",
     "start_time": "2019-12-11T07:48:55.055238Z"
    }
   },
   "outputs": [],
   "source": [
    "X_train, y_train = drop(train)\n",
    "X_test, y_test = drop(test)"
   ]
  },
  {
   "cell_type": "code",
   "execution_count": 27,
   "metadata": {
    "ExecuteTime": {
     "end_time": "2019-12-11T07:48:55.196988Z",
     "start_time": "2019-12-11T07:48:55.144816Z"
    }
   },
   "outputs": [],
   "source": [
    "X_train_train, y_train_train = drop(train_train)\n",
    "X_train_valid, y_train_valid = drop(train_valid)"
   ]
  },
  {
   "cell_type": "markdown",
   "metadata": {},
   "source": [
    "## 3. Model"
   ]
  },
  {
   "cell_type": "markdown",
   "metadata": {},
   "source": [
    "For model selection, we made a pipeline to fit 3 models: linear regression without tuning as our baseline, decision tree and random forest, with hyperparameters tuned by randomized search CV."
   ]
  },
  {
   "cell_type": "markdown",
   "metadata": {},
   "source": [
    "### (1) Hyperparameter Tuning: RandomizedSearchCV"
   ]
  },
  {
   "cell_type": "markdown",
   "metadata": {},
   "source": [
    "**Random Forest**"
   ]
  },
  {
   "cell_type": "code",
   "execution_count": 28,
   "metadata": {
    "ExecuteTime": {
     "end_time": "2019-12-11T07:48:55.209731Z",
     "start_time": "2019-12-11T07:48:55.199136Z"
    }
   },
   "outputs": [],
   "source": [
    "cv=5\n",
    "n_iter=20\n",
    "\n",
    "def make_random_cv_rf():\n",
    "    \n",
    "    param_dist = {\"max_features\":[\"auto\",\"sqrt\",\"log2\", None],\n",
    "                  \"n_estimators\":np.arange(start=50,stop=300,step=10),\n",
    "                  \"min_samples_split\": np.arange(start=2,stop=20,step=2),\n",
    "                  \"min_samples_leaf\": np.arange(start=1,stop=50,step=5),\n",
    "                  \"max_depth\": [3, 4, 5, 6, 7, 8, 9,10,None],\n",
    "                  \"bootstrap\": [True, False]\n",
    "                 }\n",
    "    clf_random_cv = RandomizedSearchCV(RandomForestRegressor(random_state=42), \n",
    "                                       param_distributions=param_dist,\n",
    "                                       cv=cv, \n",
    "                                       n_iter=n_iter, \n",
    "                                       verbose=1)\n",
    "    return clf_random_cv"
   ]
  },
  {
   "cell_type": "code",
   "execution_count": 29,
   "metadata": {
    "ExecuteTime": {
     "end_time": "2019-12-11T07:48:55.224414Z",
     "start_time": "2019-12-11T07:48:55.212062Z"
    }
   },
   "outputs": [],
   "source": [
    "rf_random_cv = make_random_cv_rf()"
   ]
  },
  {
   "cell_type": "code",
   "execution_count": 30,
   "metadata": {
    "ExecuteTime": {
     "end_time": "2019-12-11T07:48:55.229396Z",
     "start_time": "2019-12-11T07:48:55.226673Z"
    },
    "scrolled": true
   },
   "outputs": [],
   "source": [
    "# Comment out the RandomizedSearchCV fitting to save running time\n",
    "# Search Output has been recorded below\n",
    "# rf_random_cv.fit(X_train_train, y_train_train)"
   ]
  },
  {
   "cell_type": "code",
   "execution_count": 31,
   "metadata": {
    "ExecuteTime": {
     "end_time": "2019-12-11T07:48:55.240017Z",
     "start_time": "2019-12-11T07:48:55.233939Z"
    }
   },
   "outputs": [],
   "source": [
    "# Record the best hyperparameters\n",
    "para_rf = {'bootstrap': True,\n",
    " 'criterion': 'mse',\n",
    " 'max_depth': 10,\n",
    " 'max_features': None,\n",
    " 'max_leaf_nodes': None,\n",
    " 'min_impurity_decrease': 0.0,\n",
    " 'min_impurity_split': None,\n",
    " 'min_samples_leaf': 31,\n",
    " 'min_samples_split': 16,\n",
    " 'min_weight_fraction_leaf': 0.0,\n",
    " 'n_estimators': 220,\n",
    " 'n_jobs': None,\n",
    " 'oob_score': False,\n",
    " 'random_state': 42,\n",
    " 'verbose': 0,\n",
    " 'warm_start': False,\n",
    " 'random_state':42}"
   ]
  },
  {
   "cell_type": "markdown",
   "metadata": {},
   "source": [
    "**Decision Tree**"
   ]
  },
  {
   "cell_type": "code",
   "execution_count": 32,
   "metadata": {
    "ExecuteTime": {
     "end_time": "2019-12-11T07:48:55.247354Z",
     "start_time": "2019-12-11T07:48:55.242205Z"
    }
   },
   "outputs": [],
   "source": [
    "cv=5\n",
    "n_iter=20\n",
    "\n",
    "def make_random_cv_dt():\n",
    "    \n",
    "    param_dist = {\"max_features\":[\"auto\",\"sqrt\",\"log2\", None],\n",
    "                  \"min_samples_split\": np.arange(start=2,stop=20,step=2),\n",
    "                  \"min_samples_leaf\": np.arange(start=1,stop=50,step=5),\n",
    "                  \"max_depth\": [3, 4, 5, 6, 7, 8, 9,10,None]}\n",
    "    \n",
    "    clf_random_cv = RandomizedSearchCV(DecisionTreeRegressor(random_state=42), \n",
    "                                       param_distributions=param_dist,\n",
    "                                       cv=cv, \n",
    "                                       n_iter=n_iter, \n",
    "                                       verbose=1)\n",
    "    return clf_random_cv"
   ]
  },
  {
   "cell_type": "code",
   "execution_count": 33,
   "metadata": {
    "ExecuteTime": {
     "end_time": "2019-12-11T07:48:55.254792Z",
     "start_time": "2019-12-11T07:48:55.249359Z"
    }
   },
   "outputs": [],
   "source": [
    "dt_random_cv = make_random_cv_dt()"
   ]
  },
  {
   "cell_type": "code",
   "execution_count": 34,
   "metadata": {
    "ExecuteTime": {
     "end_time": "2019-12-11T07:48:55.260543Z",
     "start_time": "2019-12-11T07:48:55.257778Z"
    }
   },
   "outputs": [],
   "source": [
    "# Comment out the RandomizedSearchCV fitting to save running time\n",
    "# Search Output has been recorded below\n",
    "# dt_random_cv.fit(X_train_train, y_train_train)"
   ]
  },
  {
   "cell_type": "code",
   "execution_count": 35,
   "metadata": {
    "ExecuteTime": {
     "end_time": "2019-12-11T07:48:55.271542Z",
     "start_time": "2019-12-11T07:48:55.262536Z"
    }
   },
   "outputs": [],
   "source": [
    "# Record the best hyperparameters\n",
    "para_dt = {'criterion': 'mse',\n",
    " 'max_depth': None,\n",
    " 'max_features': 'auto',\n",
    " 'max_leaf_nodes': None,\n",
    " 'min_impurity_decrease': 0.0,\n",
    " 'min_impurity_split': None,\n",
    " 'min_samples_leaf': 16,\n",
    " 'min_samples_split': 2,\n",
    " 'min_weight_fraction_leaf': 0.0,\n",
    " 'presort': False,\n",
    " 'random_state': 42,\n",
    " 'splitter': 'best',\n",
    " 'random_state':42}"
   ]
  },
  {
   "cell_type": "markdown",
   "metadata": {},
   "source": [
    "### (2) make a pipeline to fit 3 models"
   ]
  },
  {
   "cell_type": "code",
   "execution_count": 36,
   "metadata": {
    "ExecuteTime": {
     "end_time": "2019-12-11T07:48:55.281316Z",
     "start_time": "2019-12-11T07:48:55.275575Z"
    }
   },
   "outputs": [],
   "source": [
    "def make_pipelines():\n",
    "    pipe_lr = Pipeline([('scl', StandardScaler()),\n",
    "                        ('lr', LinearRegression())]) #baseline\n",
    "    pipe_rf = Pipeline([('rf', RandomForestRegressor(**para_rf))])\n",
    "    pipe_dt = Pipeline([('dt', DecisionTreeRegressor(**para_dt))])\n",
    "    \n",
    "    pipelines = [pipe_lr, pipe_rf, pipe_dt]\n",
    "    \n",
    "    return pipelines"
   ]
  },
  {
   "cell_type": "code",
   "execution_count": 37,
   "metadata": {
    "ExecuteTime": {
     "end_time": "2019-12-11T07:48:55.293145Z",
     "start_time": "2019-12-11T07:48:55.285278Z"
    }
   },
   "outputs": [],
   "source": [
    "pipelines = make_pipelines()"
   ]
  },
  {
   "cell_type": "code",
   "execution_count": 38,
   "metadata": {
    "ExecuteTime": {
     "end_time": "2019-12-11T07:50:08.697291Z",
     "start_time": "2019-12-11T07:48:55.295249Z"
    },
    "scrolled": true
   },
   "outputs": [],
   "source": [
    "for pipe in pipelines:\n",
    "    pipe.fit(X_train_train, y_train_train)"
   ]
  },
  {
   "cell_type": "markdown",
   "metadata": {},
   "source": [
    "## 4. Metrics"
   ]
  },
  {
   "cell_type": "markdown",
   "metadata": {},
   "source": [
    "We evaluated the models with Median Absolute Error and Mean Square Error and chose MedAE as our North Star metrics, for the reason that MedAE is more robust to outliers. "
   ]
  },
  {
   "cell_type": "markdown",
   "metadata": {},
   "source": [
    "#### (1) North Star metrics: MedAE"
   ]
  },
  {
   "cell_type": "markdown",
   "metadata": {},
   "source": [
    "#### Medae of training set"
   ]
  },
  {
   "cell_type": "code",
   "execution_count": 39,
   "metadata": {
    "ExecuteTime": {
     "end_time": "2019-12-11T07:50:10.331882Z",
     "start_time": "2019-12-11T07:50:08.699370Z"
    }
   },
   "outputs": [
    {
     "name": "stdout",
     "output_type": "stream",
     "text": [
      "LinearRegression \n",
      " 0.053878354113156335\n",
      "RandomForestRegressor \n",
      " 0.03313627762497562\n",
      "DecisionTreeRegressor \n",
      " 0.028647058823529407\n"
     ]
    }
   ],
   "source": [
    "for pipe in pipelines:\n",
    "    y_pred = pipe.predict(X_train_train)\n",
    "    medae_value_train = metrics.median_absolute_error(y_train_train, y_pred) \n",
    "    print(str(type(pipe[-1])).split(\".\")[-1][:-2], '\\n', medae_value_train)"
   ]
  },
  {
   "cell_type": "markdown",
   "metadata": {},
   "source": [
    "#### Medae of validation set"
   ]
  },
  {
   "cell_type": "code",
   "execution_count": 40,
   "metadata": {
    "ExecuteTime": {
     "end_time": "2019-12-11T07:50:11.063073Z",
     "start_time": "2019-12-11T07:50:10.333874Z"
    }
   },
   "outputs": [
    {
     "name": "stdout",
     "output_type": "stream",
     "text": [
      "LinearRegression \n",
      " 0.05389927866563066\n",
      "RandomForestRegressor \n",
      " 0.03519106905543168\n",
      "DecisionTreeRegressor \n",
      " 0.03663888888888886\n"
     ]
    }
   ],
   "source": [
    "for pipe in pipelines:\n",
    "    y_pred = pipe.predict(X_train_valid)\n",
    "    medae_value_validation = metrics.median_absolute_error(y_train_valid, y_pred) \n",
    "    print(str(type(pipe[-1])).split(\".\")[-1][:-2], '\\n', medae_value_validation)"
   ]
  },
  {
   "cell_type": "markdown",
   "metadata": {},
   "source": [
    "#### Medae of test set"
   ]
  },
  {
   "cell_type": "code",
   "execution_count": 41,
   "metadata": {
    "ExecuteTime": {
     "end_time": "2019-12-11T07:50:12.087795Z",
     "start_time": "2019-12-11T07:50:11.065987Z"
    }
   },
   "outputs": [
    {
     "name": "stdout",
     "output_type": "stream",
     "text": [
      "LinearRegression \n",
      " 0.053947177275490144\n",
      "RandomForestRegressor \n",
      " 0.03508683236833471\n",
      "DecisionTreeRegressor \n",
      " 0.036730769230769234\n"
     ]
    }
   ],
   "source": [
    "for pipe in pipelines:\n",
    "    y_pred = pipe.predict(X_test)\n",
    "    medae_value_test = metrics.median_absolute_error(y_test, y_pred) \n",
    "    print(str(type(pipe[-1])).split(\".\")[-1][:-2], '\\n', medae_value_test)"
   ]
  },
  {
   "cell_type": "markdown",
   "metadata": {},
   "source": [
    "#### (2) Metrics for comparison: MSE"
   ]
  },
  {
   "cell_type": "markdown",
   "metadata": {},
   "source": [
    "#### MSE for training set"
   ]
  },
  {
   "cell_type": "code",
   "execution_count": 42,
   "metadata": {
    "ExecuteTime": {
     "end_time": "2019-12-11T07:50:13.688174Z",
     "start_time": "2019-12-11T07:50:12.089877Z"
    }
   },
   "outputs": [
    {
     "name": "stdout",
     "output_type": "stream",
     "text": [
      "LinearRegression \n",
      " 0.01033426242162816\n",
      "RandomForestRegressor \n",
      " 0.0048976590862873474\n",
      "DecisionTreeRegressor \n",
      " 0.0036608114592822363\n"
     ]
    }
   ],
   "source": [
    "for pipe in pipelines:\n",
    "    y_pred = pipe.predict(X_train_train)\n",
    "    mse_train = metrics.mean_squared_error(y_train_train, y_pred) \n",
    "    print(str(type(pipe[-1])).split(\".\")[-1][:-2], '\\n', mse_train)"
   ]
  },
  {
   "cell_type": "markdown",
   "metadata": {},
   "source": [
    "#### MSE for validation set"
   ]
  },
  {
   "cell_type": "code",
   "execution_count": 43,
   "metadata": {
    "ExecuteTime": {
     "end_time": "2019-12-11T07:50:14.391504Z",
     "start_time": "2019-12-11T07:50:13.689895Z"
    }
   },
   "outputs": [
    {
     "name": "stdout",
     "output_type": "stream",
     "text": [
      "LinearRegression \n",
      " 0.010354376697612754\n",
      "RandomForestRegressor \n",
      " 0.0053653415789577195\n",
      "DecisionTreeRegressor \n",
      " 0.005945565313887115\n"
     ]
    }
   ],
   "source": [
    "for pipe in pipelines:\n",
    "    y_pred = pipe.predict(X_train_valid)\n",
    "    mse_validation = metrics.mean_squared_error(y_train_valid, y_pred) \n",
    "    print(str(type(pipe[-1])).split(\".\")[-1][:-2], '\\n', mse_validation)"
   ]
  },
  {
   "cell_type": "markdown",
   "metadata": {},
   "source": [
    "#### MSE for test set"
   ]
  },
  {
   "cell_type": "code",
   "execution_count": 44,
   "metadata": {
    "ExecuteTime": {
     "end_time": "2019-12-11T07:50:15.379590Z",
     "start_time": "2019-12-11T07:50:14.393343Z"
    }
   },
   "outputs": [
    {
     "name": "stdout",
     "output_type": "stream",
     "text": [
      "LinearRegression \n",
      " 0.01023600470705777\n",
      "RandomForestRegressor \n",
      " 0.005355748740649857\n",
      "DecisionTreeRegressor \n",
      " 0.005853417874759092\n"
     ]
    }
   ],
   "source": [
    "for pipe in pipelines:\n",
    "    y_pred = pipe.predict(X_test)\n",
    "    mse_test = metrics.mean_squared_error(y_test, y_pred) \n",
    "    print(str(type(pipe[-1])).split(\".\")[-1][:-2], '\\n', mse_test)"
   ]
  },
  {
   "cell_type": "markdown",
   "metadata": {},
   "source": [
    "## 5. Results and visualization"
   ]
  },
  {
   "cell_type": "markdown",
   "metadata": {},
   "source": [
    "#### (1) Result of model selection"
   ]
  },
  {
   "cell_type": "code",
   "execution_count": 45,
   "metadata": {
    "ExecuteTime": {
     "end_time": "2019-12-11T07:50:15.388441Z",
     "start_time": "2019-12-11T07:50:15.381524Z"
    }
   },
   "outputs": [],
   "source": [
    "# Transfer the medae of training set and validation set to dataframe\n",
    "def to_df(pipelines):\n",
    "    model = []\n",
    "    medae_train = []\n",
    "    medae_val = []\n",
    "    for pipe in pipelines:\n",
    "        y_pred_train = pipe.predict(X_train_train)\n",
    "        y_pred_val = pipe.predict(X_train_valid)\n",
    "        model.append(str(type(pipe[-1])).split(\".\")[-1][:-2])\n",
    "        medae_train.append(metrics.median_absolute_error(y_train_train, y_pred_train))\n",
    "        medae_val.append(metrics.median_absolute_error(y_train_valid, y_pred_val))\n",
    "    df_train = pd.DataFrame(np.array([model, medae_train]).T, columns = ['model', 'medae'])\n",
    "    df_train['flag'] = 'train'\n",
    "    df_val = pd.DataFrame(np.array([model, medae_val]).T, columns = ['model', 'medae'])\n",
    "    df_val['flag'] = 'validation'\n",
    "    df = pd.concat([df_train, df_val])\n",
    "    return df"
   ]
  },
  {
   "cell_type": "code",
   "execution_count": 46,
   "metadata": {
    "ExecuteTime": {
     "end_time": "2019-12-11T07:50:17.663373Z",
     "start_time": "2019-12-11T07:50:15.390318Z"
    }
   },
   "outputs": [],
   "source": [
    "model_selection = to_df(pipelines)"
   ]
  },
  {
   "cell_type": "code",
   "execution_count": 47,
   "metadata": {
    "ExecuteTime": {
     "end_time": "2019-12-11T07:50:17.670169Z",
     "start_time": "2019-12-11T07:50:17.665879Z"
    }
   },
   "outputs": [],
   "source": [
    "model_selection['medae'] = model_selection['medae'].astype('float')"
   ]
  },
  {
   "cell_type": "code",
   "execution_count": 48,
   "metadata": {
    "ExecuteTime": {
     "end_time": "2019-12-11T07:50:17.684372Z",
     "start_time": "2019-12-11T07:50:17.672308Z"
    }
   },
   "outputs": [
    {
     "data": {
      "text/html": [
       "<div>\n",
       "<style scoped>\n",
       "    .dataframe tbody tr th:only-of-type {\n",
       "        vertical-align: middle;\n",
       "    }\n",
       "\n",
       "    .dataframe tbody tr th {\n",
       "        vertical-align: top;\n",
       "    }\n",
       "\n",
       "    .dataframe thead th {\n",
       "        text-align: right;\n",
       "    }\n",
       "</style>\n",
       "<table border=\"1\" class=\"dataframe\">\n",
       "  <thead>\n",
       "    <tr style=\"text-align: right;\">\n",
       "      <th></th>\n",
       "      <th>model</th>\n",
       "      <th>medae</th>\n",
       "      <th>flag</th>\n",
       "    </tr>\n",
       "  </thead>\n",
       "  <tbody>\n",
       "    <tr>\n",
       "      <td>0</td>\n",
       "      <td>LinearRegression</td>\n",
       "      <td>0.053878</td>\n",
       "      <td>train</td>\n",
       "    </tr>\n",
       "    <tr>\n",
       "      <td>1</td>\n",
       "      <td>RandomForestRegressor</td>\n",
       "      <td>0.033136</td>\n",
       "      <td>train</td>\n",
       "    </tr>\n",
       "    <tr>\n",
       "      <td>2</td>\n",
       "      <td>DecisionTreeRegressor</td>\n",
       "      <td>0.028647</td>\n",
       "      <td>train</td>\n",
       "    </tr>\n",
       "    <tr>\n",
       "      <td>0</td>\n",
       "      <td>LinearRegression</td>\n",
       "      <td>0.053899</td>\n",
       "      <td>validation</td>\n",
       "    </tr>\n",
       "    <tr>\n",
       "      <td>1</td>\n",
       "      <td>RandomForestRegressor</td>\n",
       "      <td>0.035191</td>\n",
       "      <td>validation</td>\n",
       "    </tr>\n",
       "    <tr>\n",
       "      <td>2</td>\n",
       "      <td>DecisionTreeRegressor</td>\n",
       "      <td>0.036639</td>\n",
       "      <td>validation</td>\n",
       "    </tr>\n",
       "  </tbody>\n",
       "</table>\n",
       "</div>"
      ],
      "text/plain": [
       "                   model     medae        flag\n",
       "0       LinearRegression  0.053878       train\n",
       "1  RandomForestRegressor  0.033136       train\n",
       "2  DecisionTreeRegressor  0.028647       train\n",
       "0       LinearRegression  0.053899  validation\n",
       "1  RandomForestRegressor  0.035191  validation\n",
       "2  DecisionTreeRegressor  0.036639  validation"
      ]
     },
     "execution_count": 48,
     "metadata": {},
     "output_type": "execute_result"
    }
   ],
   "source": [
    "model_selection"
   ]
  },
  {
   "cell_type": "code",
   "execution_count": 49,
   "metadata": {
    "ExecuteTime": {
     "end_time": "2019-12-11T07:50:18.100014Z",
     "start_time": "2019-12-11T07:50:17.686820Z"
    },
    "scrolled": true
   },
   "outputs": [
    {
     "data": {
      "image/png": "[encoded data removed]",
      "text/plain": [
       "<Figure size 1080x720 with 1 Axes>"
      ]
     },
     "metadata": {},
     "output_type": "display_data"
    }
   ],
   "source": [
    "plt.figure(figsize=(15, 10))\n",
    "sns.set(font_scale=2)\n",
    "plt_model_selection = sns.barplot(\n",
    "    y=\"model\", x='medae', hue='flag', data=model_selection, palette='Paired')"
   ]
  },
  {
   "cell_type": "markdown",
   "metadata": {},
   "source": [
    "Random Forest model performs the best among these 3 models on validation set. Decision Tree model performs pretty well on the training set, but much worse on the validation set, meaning that it is a bit overfitted.\n",
    "So we chose the Random Forest model as our final model."
   ]
  },
  {
   "cell_type": "markdown",
   "metadata": {
    "ExecuteTime": {
     "end_time": "2019-12-11T06:31:20.721638Z",
     "start_time": "2019-12-11T06:31:20.716594Z"
    }
   },
   "source": [
    "So we chose the Random Forest model as our final model."
   ]
  },
  {
   "cell_type": "markdown",
   "metadata": {},
   "source": [
    "#### (2) Result of feature importance"
   ]
  },
  {
   "cell_type": "code",
   "execution_count": 50,
   "metadata": {
    "ExecuteTime": {
     "end_time": "2019-12-11T07:50:20.848482Z",
     "start_time": "2019-12-11T07:50:18.101999Z"
    }
   },
   "outputs": [],
   "source": [
    "y_train_df = pd.DataFrame(y_train)\n",
    "# Get the feature importance from the rfimp package\n",
    "I = importances(pipelines[1].steps[0][1], X_train, y_train_df)\n",
    "feature_imp = I.reset_index()"
   ]
  },
  {
   "cell_type": "code",
   "execution_count": 51,
   "metadata": {
    "ExecuteTime": {
     "end_time": "2019-12-11T07:50:21.280847Z",
     "start_time": "2019-12-11T07:50:20.850432Z"
    }
   },
   "outputs": [
    {
     "data": {
      "image/png": "[encoded data removed]",
      "text/plain": [
       "<Figure size 1080x576 with 1 Axes>"
      ]
     },
     "metadata": {},
     "output_type": "display_data"
    }
   ],
   "source": [
    "# Plot results\n",
    "plt.figure(figsize=(15,8))\n",
    "sns.set(font_scale=1.5)\n",
    "plt_feature_imp = sns.barplot(x=\"Importance\", y='Feature', data=feature_imp, palette='Paired')"
   ]
  },
  {
   "cell_type": "markdown",
   "metadata": {},
   "source": [
    "Random forest model selected about 10 important features out of 24. Top three important features include 'killPlace', 'walkDistance' and 'kills'."
   ]
  },
  {
   "cell_type": "markdown",
   "metadata": {},
   "source": [
    "#### (3) Relation of 'winPlacePerc' against 'killplace' "
   ]
  },
  {
   "cell_type": "code",
   "execution_count": 52,
   "metadata": {
    "ExecuteTime": {
     "end_time": "2019-12-11T07:50:25.840833Z",
     "start_time": "2019-12-11T07:50:21.282400Z"
    },
    "scrolled": true
   },
   "outputs": [
    {
     "data": {
      "image/png": "[encoded data removed]",
      "text/plain": [
       "<Figure size 432x288 with 1 Axes>"
      ]
     },
     "metadata": {},
     "output_type": "display_data"
    }
   ],
   "source": [
    "plt_kill_win = sns.lineplot(x=\"killPlace\", y=\"winPlacePerc\", data=PUBG, palette='Paired')"
   ]
  },
  {
   "cell_type": "markdown",
   "metadata": {},
   "source": [
    "The high ranking in 'killPlace', the higher ranking in 'winPlacePerc'."
   ]
  },
  {
   "cell_type": "markdown",
   "metadata": {},
   "source": [
    "#### (4) Relation of  'winPlacePerc' against 'walkDistance'"
   ]
  },
  {
   "cell_type": "code",
   "execution_count": 53,
   "metadata": {
    "ExecuteTime": {
     "end_time": "2019-12-11T07:58:09.541631Z",
     "start_time": "2019-12-11T07:50:25.842999Z"
    },
    "scrolled": true
   },
   "outputs": [
    {
     "data": {
      "image/png": "[encoded data removed]",
      "text/plain": [
       "<Figure size 432x288 with 1 Axes>"
      ]
     },
     "metadata": {},
     "output_type": "display_data"
    }
   ],
   "source": [
    "plt_walk_win = sns.lineplot(x=\"walkDistance\", y=\"winPlacePerc\", data=PUBG, palette='Paired')"
   ]
  },
  {
   "cell_type": "markdown",
   "metadata": {},
   "source": [
    "The players who perform best walk around 5000 to 10000 miles in a match"
   ]
  },
  {
   "cell_type": "markdown",
   "metadata": {},
   "source": [
    "#### (5) Relation of ''winPlacePerc' against 'kill'"
   ]
  },
  {
   "cell_type": "code",
   "execution_count": 54,
   "metadata": {
    "ExecuteTime": {
     "end_time": "2019-12-11T07:58:13.188608Z",
     "start_time": "2019-12-11T07:58:09.543420Z"
    },
    "scrolled": true
   },
   "outputs": [
    {
     "data": {
      "image/png": "[encoded data removed]",
      "text/plain": [
       "<Figure size 432x288 with 1 Axes>"
      ]
     },
     "metadata": {},
     "output_type": "display_data"
    }
   ],
   "source": [
    "plt_kills_win = sns.lineplot(x=\"kills\", y=\"winPlacePerc\", data=PUBG, palette='Paired')"
   ]
  },
  {
   "cell_type": "markdown",
   "metadata": {},
   "source": [
    "The more kills, the higher final ranking."
   ]
  },
  {
   "cell_type": "markdown",
   "metadata": {},
   "source": [
    "## 6. Select important features and fit the model again"
   ]
  },
  {
   "cell_type": "markdown",
   "metadata": {},
   "source": [
    "#### (1) Refit the Random Forest model with only important features"
   ]
  },
  {
   "cell_type": "code",
   "execution_count": 55,
   "metadata": {
    "ExecuteTime": {
     "end_time": "2019-12-11T07:58:13.195649Z",
     "start_time": "2019-12-11T07:58:13.190935Z"
    }
   },
   "outputs": [],
   "source": [
    "# Select features with importance no less than 0.001\n",
    "features_s = list(feature_imp[feature_imp.Importance >= 0.001].Feature)"
   ]
  },
  {
   "cell_type": "code",
   "execution_count": 56,
   "metadata": {
    "ExecuteTime": {
     "end_time": "2019-12-11T07:58:13.225616Z",
     "start_time": "2019-12-11T07:58:13.197455Z"
    }
   },
   "outputs": [],
   "source": [
    "# Make training, validation and test set only contain selected features\n",
    "X_train_train_s = X_train_train[features_s]\n",
    "X_train_valid_s = X_train_valid[features_s]\n",
    "X_test_s = X_test[features_s]"
   ]
  },
  {
   "cell_type": "code",
   "execution_count": 57,
   "metadata": {
    "ExecuteTime": {
     "end_time": "2019-12-11T07:58:13.234392Z",
     "start_time": "2019-12-11T07:58:13.228395Z"
    }
   },
   "outputs": [],
   "source": [
    "rfregressor = RandomForestRegressor(**para_rf)"
   ]
  },
  {
   "cell_type": "code",
   "execution_count": 58,
   "metadata": {
    "ExecuteTime": {
     "end_time": "2019-12-11T07:58:47.719298Z",
     "start_time": "2019-12-11T07:58:13.242144Z"
    }
   },
   "outputs": [
    {
     "data": {
      "text/plain": [
       "RandomForestRegressor(bootstrap=True, criterion='mse', max_depth=10,\n",
       "                      max_features=None, max_leaf_nodes=None,\n",
       "                      min_impurity_decrease=0.0, min_impurity_split=None,\n",
       "                      min_samples_leaf=31, min_samples_split=16,\n",
       "                      min_weight_fraction_leaf=0.0, n_estimators=220,\n",
       "                      n_jobs=None, oob_score=False, random_state=42, verbose=0,\n",
       "                      warm_start=False)"
      ]
     },
     "execution_count": 58,
     "metadata": {},
     "output_type": "execute_result"
    }
   ],
   "source": [
    "rfregressor.fit(X_train_train_s, y_train_train)"
   ]
  },
  {
   "cell_type": "markdown",
   "metadata": {},
   "source": [
    "#### (2) Evaluation by the North Star metrics"
   ]
  },
  {
   "cell_type": "markdown",
   "metadata": {},
   "source": [
    "#### Medae of train set"
   ]
  },
  {
   "cell_type": "code",
   "execution_count": 60,
   "metadata": {
    "ExecuteTime": {
     "end_time": "2019-12-11T07:59:53.376932Z",
     "start_time": "2019-12-11T07:59:50.217206Z"
    }
   },
   "outputs": [
    {
     "name": "stdout",
     "output_type": "stream",
     "text": [
      "MedAE of orginal model: 0.03313627762497562 MedAE of refit model 0.03331066754071055\n"
     ]
    }
   ],
   "source": [
    "# MedAE of orginal model\n",
    "y_pred = pipelines[1].steps[0][1].predict(X_train_train)\n",
    "medae_value_train = metrics.median_absolute_error(y_train_train, y_pred)\n",
    "# MedAE of refit model\n",
    "y_pred = rfregressor.predict(X_train_train_s)\n",
    "medae_value_train_2 = metrics.median_absolute_error(y_train_train, y_pred)\n",
    "print(\"MedAE of orginal model:\", medae_value_train,\"MedAE of refit model\", medae_value_train_2)"
   ]
  },
  {
   "cell_type": "markdown",
   "metadata": {},
   "source": [
    "#### Medae of validation set"
   ]
  },
  {
   "cell_type": "code",
   "execution_count": 61,
   "metadata": {
    "ExecuteTime": {
     "end_time": "2019-12-11T08:00:06.592995Z",
     "start_time": "2019-12-11T08:00:05.230848Z"
    }
   },
   "outputs": [
    {
     "name": "stdout",
     "output_type": "stream",
     "text": [
      "MedAE of orginal model: 0.03519106905543168 MedAE of refit model 0.03520379674848506\n"
     ]
    }
   ],
   "source": [
    "# MedAE of orginal model\n",
    "y_pred = pipelines[1].steps[0][1].predict(X_train_valid)\n",
    "medae_value_validation = metrics.median_absolute_error(y_train_valid, y_pred)\n",
    "# MedAE of refit model\n",
    "y_pred = rfregressor.predict(X_train_valid_s)\n",
    "medae_value_validation_2 = metrics.median_absolute_error(y_train_valid, y_pred)\n",
    "print(\"MedAE of orginal model:\", medae_value_validation,\"MedAE of refit model\", medae_value_validation_2)"
   ]
  },
  {
   "cell_type": "markdown",
   "metadata": {},
   "source": [
    "#### Medae of test set"
   ]
  },
  {
   "cell_type": "code",
   "execution_count": 62,
   "metadata": {
    "ExecuteTime": {
     "end_time": "2019-12-11T08:00:39.862642Z",
     "start_time": "2019-12-11T08:00:37.874583Z"
    }
   },
   "outputs": [
    {
     "name": "stdout",
     "output_type": "stream",
     "text": [
      "MedAE of orginal model: 0.03508683236833471 MedAE of refit model 0.035123029042574916\n"
     ]
    }
   ],
   "source": [
    "# MedAE of orginal model\n",
    "y_pred = pipelines[1].steps[0][1].predict(X_test)\n",
    "medae_value_test = metrics.median_absolute_error(y_test, y_pred)\n",
    "# MedAE of refit model\n",
    "y_pred = rfregressor.predict(X_test_s)\n",
    "medae_value_test_2 = metrics.median_absolute_error(y_test, y_pred)\n",
    "print(\"MedAE of orginal model:\", medae_value_test,\"MedAE of refit model\", medae_value_test_2)"
   ]
  },
  {
   "cell_type": "markdown",
   "metadata": {},
   "source": [
    "#### (3) Visualize the results of the two model"
   ]
  },
  {
   "cell_type": "code",
   "execution_count": 63,
   "metadata": {
    "ExecuteTime": {
     "end_time": "2019-12-11T08:00:43.105883Z",
     "start_time": "2019-12-11T08:00:43.099863Z"
    }
   },
   "outputs": [],
   "source": [
    "medae = pd.DataFrame(np.array([['train', medae_value_train, 'RF'],\n",
    "                                ['valid',medae_value_validation, 'RF'],\n",
    "                                ['test', medae_value_test, 'RF'],\n",
    "                                ['train', medae_value_train_2, 'RF with important features'],\n",
    "                                ['valid', medae_value_validation_2, 'RF with important features'],\n",
    "                                ['test', medae_value_test_2, 'RF with important features']]),\n",
    "                      columns = ['flag', 'MEDAE', 'model'])"
   ]
  },
  {
   "cell_type": "code",
   "execution_count": 64,
   "metadata": {
    "ExecuteTime": {
     "end_time": "2019-12-11T08:00:43.459509Z",
     "start_time": "2019-12-11T08:00:43.453883Z"
    }
   },
   "outputs": [],
   "source": [
    "medae['MEDAE'] = medae['MEDAE'].astype(float)"
   ]
  },
  {
   "cell_type": "code",
   "execution_count": 65,
   "metadata": {
    "ExecuteTime": {
     "end_time": "2019-12-11T08:00:43.688227Z",
     "start_time": "2019-12-11T08:00:43.669825Z"
    }
   },
   "outputs": [
    {
     "data": {
      "text/html": [
       "<div>\n",
       "<style scoped>\n",
       "    .dataframe tbody tr th:only-of-type {\n",
       "        vertical-align: middle;\n",
       "    }\n",
       "\n",
       "    .dataframe tbody tr th {\n",
       "        vertical-align: top;\n",
       "    }\n",
       "\n",
       "    .dataframe thead th {\n",
       "        text-align: right;\n",
       "    }\n",
       "</style>\n",
       "<table border=\"1\" class=\"dataframe\">\n",
       "  <thead>\n",
       "    <tr style=\"text-align: right;\">\n",
       "      <th></th>\n",
       "      <th>flag</th>\n",
       "      <th>MEDAE</th>\n",
       "      <th>model</th>\n",
       "    </tr>\n",
       "  </thead>\n",
       "  <tbody>\n",
       "    <tr>\n",
       "      <td>0</td>\n",
       "      <td>train</td>\n",
       "      <td>0.033136</td>\n",
       "      <td>RF</td>\n",
       "    </tr>\n",
       "    <tr>\n",
       "      <td>1</td>\n",
       "      <td>valid</td>\n",
       "      <td>0.035191</td>\n",
       "      <td>RF</td>\n",
       "    </tr>\n",
       "    <tr>\n",
       "      <td>2</td>\n",
       "      <td>test</td>\n",
       "      <td>0.035087</td>\n",
       "      <td>RF</td>\n",
       "    </tr>\n",
       "    <tr>\n",
       "      <td>3</td>\n",
       "      <td>train</td>\n",
       "      <td>0.033311</td>\n",
       "      <td>RF with important features</td>\n",
       "    </tr>\n",
       "    <tr>\n",
       "      <td>4</td>\n",
       "      <td>valid</td>\n",
       "      <td>0.035204</td>\n",
       "      <td>RF with important features</td>\n",
       "    </tr>\n",
       "    <tr>\n",
       "      <td>5</td>\n",
       "      <td>test</td>\n",
       "      <td>0.035123</td>\n",
       "      <td>RF with important features</td>\n",
       "    </tr>\n",
       "  </tbody>\n",
       "</table>\n",
       "</div>"
      ],
      "text/plain": [
       "    flag     MEDAE                       model\n",
       "0  train  0.033136                          RF\n",
       "1  valid  0.035191                          RF\n",
       "2   test  0.035087                          RF\n",
       "3  train  0.033311  RF with important features\n",
       "4  valid  0.035204  RF with important features\n",
       "5   test  0.035123  RF with important features"
      ]
     },
     "execution_count": 65,
     "metadata": {},
     "output_type": "execute_result"
    }
   ],
   "source": [
    "medae"
   ]
  },
  {
   "cell_type": "code",
   "execution_count": 66,
   "metadata": {
    "ExecuteTime": {
     "end_time": "2019-12-11T08:00:44.172565Z",
     "start_time": "2019-12-11T08:00:43.866818Z"
    }
   },
   "outputs": [
    {
     "data": {
      "text/plain": [
       "<matplotlib.legend.Legend at 0x1a30401d10>"
      ]
     },
     "execution_count": 66,
     "metadata": {},
     "output_type": "execute_result"
    },
    {
     "data": {
      "image/png": "[encoded data removed]",
      "text/plain": [
       "<Figure size 720x432 with 1 Axes>"
      ]
     },
     "metadata": {},
     "output_type": "display_data"
    }
   ],
   "source": [
    "plt.figure(figsize=(10,6))\n",
    "sns.set(font_scale=2)\n",
    "plt_model_selection= sns.barplot(x=\"model\", y='MEDAE', hue = 'flag', data=medae, palette='Paired')\n",
    "plt.legend(loc=4)"
   ]
  },
  {
   "cell_type": "markdown",
   "metadata": {},
   "source": [
    "MedAE on test set of Random Forest model(all features) is 0.0352."
   ]
  },
  {
   "cell_type": "markdown",
   "metadata": {},
   "source": [
    "MedAE on test set of Random Forest model(only important features) is 0.0351."
   ]
  },
  {
   "cell_type": "markdown",
   "metadata": {},
   "source": [
    "Using only important features does not improve the model much."
   ]
  },
  {
   "cell_type": "markdown",
   "metadata": {},
   "source": [
    "We are able to predict the finish placement of PUBG players in a match with an median error of about 3.5%."
   ]
  },
  {
   "cell_type": "markdown",
   "metadata": {},
   "source": [
    "## 7. Summary"
   ]
  },
  {
   "cell_type": "markdown",
   "metadata": {},
   "source": [
    "- In order to predict the finish placement of the PUBG players, we fitted 3 models: linear regression without tuning as our baseline, decision tree and random forest, with hyperparameters tuned by RandomizedSearchCV.  \n",
    "    \n",
    "    \n",
    "- Random forest model had the lowest MEDAE on the validation set. Decision tree worked very good on training dataset, but no as well on validation dataset, indicating it had the problem of overfiting. So we chose random forest model because the performance on training and validation datasets were comparable.   \n",
    "\n",
    "   \n",
    "- The random forest model had MEDAE of 0.035 on validation set, which means that we are able to predict the finish placement of PUBG players in a match with an median error of about 3.5%.\n",
    "    \n",
    "    \n",
    "- The tuned random forest model selected about 10 important features out of 24. Top three important features include killPlace, that is the ranking of number of enemies killed by the player in a match, walkDistance, that is how far the player walked in a match and kills, that’s the number of enemies killed by the player."
   ]
  },
  {
   "cell_type": "markdown",
   "metadata": {},
   "source": [
    "## 8. Takeaways"
   ]
  },
  {
   "cell_type": "markdown",
   "metadata": {},
   "source": [
    "#### (1) Technical key takeaways:"
   ]
  },
  {
   "cell_type": "markdown",
   "metadata": {},
   "source": [
    "- Random forest improves generality."
   ]
  },
  {
   "cell_type": "markdown",
   "metadata": {},
   "source": [
    "- Feature engineering matters"
   ]
  },
  {
   "cell_type": "markdown",
   "metadata": {},
   "source": [
    "#### (2) Non-technical key takeaways:\n"
   ]
  },
  {
   "cell_type": "markdown",
   "metadata": {},
   "source": [
    "- The best killer wins!"
   ]
  },
  {
   "cell_type": "markdown",
   "metadata": {},
   "source": [
    "- Walk around and explore more."
   ]
  },
  {
   "cell_type": "markdown",
   "metadata": {},
   "source": [
    "- Collect sufficient boosters boost yourself promptly."
   ]
  },
  {
   "cell_type": "markdown",
   "metadata": {},
   "source": [
    "- Kill from afar."
   ]
  }
 ],
 "metadata": {
  "kernelspec": {
   "display_name": "Python 3",
   "language": "python",
   "name": "python3"
  },
  "language_info": {
   "codemirror_mode": {
    "name": "ipython",
    "version": 3
   },
   "file_extension": ".py",
   "mimetype": "text/x-python",
   "name": "python",
   "nbconvert_exporter": "python",
   "pygments_lexer": "ipython3",
   "version": "3.7.4"
  }
 },
 "nbformat": 4,
 "nbformat_minor": 2
}
